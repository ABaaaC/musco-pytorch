{
 "cells": [
  {
   "cell_type": "code",
   "execution_count": 2,
   "metadata": {},
   "outputs": [],
   "source": [
    "import sys\n",
    "sys.path.append('../')\n",
    "from tensor_compression.compress import btd2_init_random, btd2_als, btd1_init_random, btd1_als \n",
    "\n",
    "import torch"
   ]
  },
  {
   "cell_type": "markdown",
   "metadata": {},
   "source": [
    "### BTD Tucker2"
   ]
  },
  {
   "cell_type": "code",
   "execution_count": 3,
   "metadata": {},
   "outputs": [],
   "source": [
    "W = torch.rand((64, 128 ,9))\n",
    "\n",
    "rank = 2\n",
    "R1 = [2, 3]\n",
    "R2 = [4, 5]\n",
    "\n",
    "assert len(R1) == rank and len(R2) == rank"
   ]
  },
  {
   "cell_type": "code",
   "execution_count": 4,
   "metadata": {},
   "outputs": [],
   "source": [
    "# cores = [torch.randn(R1[k], R2[k], W.shape[-1]) for k in range(rank)]\n",
    "# As = [torch.randn(W.shape[0], R1[k]) for k in range(rank)]\n",
    "# Bs = [torch.randn(W.shape[1], R2[k]) for k in range(rank)]\n",
    "\n",
    "cores, As, Bs = btd2_init_random(W.shape, list(zip(R1, R2)))\n",
    "guess = [cores, As, Bs]\n",
    "guess_new = btd2_als(W, guess, return_fit = False)"
   ]
  },
  {
   "cell_type": "code",
   "execution_count": 5,
   "metadata": {},
   "outputs": [],
   "source": [
    "# btd2_normalize([cores, As, Bs])"
   ]
  },
  {
   "cell_type": "markdown",
   "metadata": {},
   "source": [
    "### BTD (L, L, 1)"
   ]
  },
  {
   "cell_type": "code",
   "execution_count": 6,
   "metadata": {},
   "outputs": [],
   "source": [
    "W = torch.rand((64, 128 ,9))\n",
    "\n",
    "rank = 2\n",
    "R1 = [2, 3]\n",
    "\n",
    "assert len(R1) == rank"
   ]
  },
  {
   "cell_type": "code",
   "execution_count": 7,
   "metadata": {},
   "outputs": [],
   "source": [
    "# As = [torch.randn(W.shape[0], R1[k]) for k in range(rank)]\n",
    "# Bs = [torch.randn(W.shape[1], R1[k]) for k in range(rank)]\n",
    "# C = torch.rand(W.shape[-1], rank)\n",
    "\n",
    "As, Bs, C = btd1_init_random(W.shape, R1)\n",
    "guess = [As, Bs, C]\n",
    "guess_new = btd1_als(W, guess, return_fit = False)"
   ]
  },
  {
   "cell_type": "code",
   "execution_count": null,
   "metadata": {},
   "outputs": [],
   "source": []
  }
 ],
 "metadata": {
  "kernelspec": {
   "display_name": "Python 3",
   "language": "python",
   "name": "python3"
  },
  "language_info": {
   "codemirror_mode": {
    "name": "ipython",
    "version": 3
   },
   "file_extension": ".py",
   "mimetype": "text/x-python",
   "name": "python",
   "nbconvert_exporter": "python",
   "pygments_lexer": "ipython3",
   "version": "3.6.7"
  }
 },
 "nbformat": 4,
 "nbformat_minor": 2
}
